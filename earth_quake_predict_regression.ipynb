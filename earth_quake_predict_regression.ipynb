{
 "cells": [
  {
   "metadata": {
    "ExecuteTime": {
     "end_time": "2025-01-14T06:43:14.212255Z",
     "start_time": "2025-01-14T06:43:14.209214Z"
    }
   },
   "cell_type": "code",
   "source": [
    "import pandas as pd, seaborn as sns, matplotlib.pyplot as plt, numpy as np, time\n",
    "from sklearn.decomposition import PCA\n",
    "from sklearn.discriminant_analysis import LinearDiscriminantAnalysis as LDA\n",
    "from sklearn.preprocessing import StandardScaler\n",
    "from sklearn.model_selection import train_test_split\n",
    "from sklearn.metrics import mean_squared_error, mean_absolute_error, root_mean_squared_error, r2_score\n",
    "from sklearn.linear_model import Lasso, LinearRegression\n",
    "from sklearn.svm import SVC\n",
    "from sklearn.preprocessing import LabelEncoder"
   ],
   "id": "c8503a31459717e",
   "outputs": [],
   "execution_count": 159
  },
  {
   "metadata": {
    "ExecuteTime": {
     "end_time": "2025-01-14T06:43:14.265884Z",
     "start_time": "2025-01-14T06:43:14.234653Z"
    }
   },
   "cell_type": "code",
   "source": [
    "# Read data\n",
    "# Change data path on your computer\n",
    "data_path = 'earthquakes.csv'\n",
    "data = pd.read_csv(data_path)\n",
    "# Print the data information\n",
    "data.info()"
   ],
   "id": "f5bea9acd8baab86",
   "outputs": [
    {
     "name": "stdout",
     "output_type": "stream",
     "text": [
      "<class 'pandas.core.frame.DataFrame'>\n",
      "RangeIndex: 1137 entries, 0 to 1136\n",
      "Data columns (total 43 columns):\n",
      " #   Column           Non-Null Count  Dtype  \n",
      "---  ------           --------------  -----  \n",
      " 0   id               1137 non-null   object \n",
      " 1   magnitude        1137 non-null   float64\n",
      " 2   type             1137 non-null   object \n",
      " 3   title            1137 non-null   object \n",
      " 4   date             1137 non-null   object \n",
      " 5   time             1137 non-null   int64  \n",
      " 6   updated          1137 non-null   int64  \n",
      " 7   url              1137 non-null   object \n",
      " 8   detailUrl        1137 non-null   object \n",
      " 9   felt             1137 non-null   int64  \n",
      " 10  cdi              1137 non-null   int64  \n",
      " 11  mmi              1137 non-null   int64  \n",
      " 12  alert            764 non-null    object \n",
      " 13  status           1137 non-null   object \n",
      " 14  tsunami          1137 non-null   int64  \n",
      " 15  sig              1137 non-null   int64  \n",
      " 16  net              1137 non-null   object \n",
      " 17  code             1137 non-null   object \n",
      " 18  ids              1137 non-null   object \n",
      " 19  sources          1137 non-null   object \n",
      " 20  types            1137 non-null   object \n",
      " 21  nst              1137 non-null   int64  \n",
      " 22  dmin             1137 non-null   float64\n",
      " 23  rms              1137 non-null   float64\n",
      " 24  gap              1137 non-null   float64\n",
      " 25  magType          1137 non-null   object \n",
      " 26  geometryType     1137 non-null   object \n",
      " 27  depth            1137 non-null   float64\n",
      " 28  latitude         1137 non-null   float64\n",
      " 29  longitude        1137 non-null   float64\n",
      " 30  place            1137 non-null   object \n",
      " 31  distanceKM       1137 non-null   int64  \n",
      " 32  placeOnly        1137 non-null   object \n",
      " 33  location         1137 non-null   object \n",
      " 34  continent        867 non-null    object \n",
      " 35  country          799 non-null    object \n",
      " 36  subnational      716 non-null    object \n",
      " 37  city             674 non-null    object \n",
      " 38  locality         1137 non-null   object \n",
      " 39  postcode         197 non-null    float64\n",
      " 40  what3words       1137 non-null   object \n",
      " 41  timezone         1137 non-null   int64  \n",
      " 42  locationDetails  1137 non-null   object \n",
      "dtypes: float64(8), int64(10), object(25)\n",
      "memory usage: 382.1+ KB\n"
     ]
    }
   ],
   "execution_count": 160
  },
  {
   "metadata": {
    "ExecuteTime": {
     "end_time": "2025-01-14T06:43:14.320807Z",
     "start_time": "2025-01-14T06:43:14.272494Z"
    }
   },
   "cell_type": "code",
   "source": [
    "# Remove some features that aren't important for classify / clustering the alert of the earthquake\n",
    "# Feature 'date' is already converted to float type in the original dataset \n",
    "data.drop(['id', 'date', 'title', 'url', 'detailUrl', 'ids', 'sources',\n",
    "           'types', 'net', 'code', 'geometryType', 'status',\n",
    "           'postcode', 'what3words', 'locationDetails'], axis=1, inplace=True)\n",
    "\n",
    "# Replace Null value of column 'alert' to unknown \n",
    "data.fillna({'alert': 'unknown'}, inplace=True)\n",
    "\n",
    "# NA-value columns will be filled by 'unknown' value\n",
    "na_column = data.columns[data.isna().any()].tolist()\n",
    "\n",
    "for column in na_column:\n",
    "    data.fillna({column: 'unknown'}, inplace=True)\n",
    "\n",
    "# String-value columns will be one-hot coding\n",
    "string_columns = data.select_dtypes(include=['object']).columns.tolist()\n",
    "string_columns.remove('alert')\n",
    "\n",
    "# One-hot coding\n",
    "for column in string_columns:\n",
    "    dummies = pd.get_dummies(data[column], prefix='type')\n",
    "    data.drop([column], axis=1, inplace=True)\n",
    "    data = pd.concat([data, dummies], axis=1)\n",
    "\n",
    "pd.DataFrame(data)"
   ],
   "id": "822f4859dbb90c3d",
   "outputs": [
    {
     "data": {
      "text/plain": [
       "      magnitude           time        updated  felt  cdi  mmi    alert  \\\n",
       "0           4.8  1726534182289  1726583895255  1893    6    5    green   \n",
       "1           5.1  1726534182183  1726672002991  2042    6    5    green   \n",
       "2           3.7  1726485728190  1726637414586  1580    4    4  unknown   \n",
       "3           3.9  1726333266539  1726584426218     5    3    4    green   \n",
       "4           4.1  1726333266382  1726334616179     4    3    4    green   \n",
       "...         ...            ...            ...   ...  ...  ...      ...   \n",
       "1132        6.3  1696662769702  1702589215040    11    9    8   orange   \n",
       "1133        5.4  1696661381156  1702589215040     0    0    7   yellow   \n",
       "1134        6.3  1696660863327  1702589215040    19    8    8   orange   \n",
       "1135        5.7  1696324863018  1702589211040   131    8    7    green   \n",
       "1136        5.8  1691251309816  1696714739040    25    5    4    green   \n",
       "\n",
       "      tsunami   sig  nst  ...  type_Wushi  type_Yakutat  type_Yamgan  \\\n",
       "0           0   994   37  ...       False         False        False   \n",
       "1           0  1040   24  ...       False         False        False   \n",
       "2           0   591  135  ...       False         False        False   \n",
       "3           0   236   38  ...       False         False        False   \n",
       "4           0   260   28  ...       False         False        False   \n",
       "...       ...   ...  ...  ...         ...           ...          ...   \n",
       "1132        0  1010  244  ...       False         False        False   \n",
       "1133        0   650  165  ...       False         False        False   \n",
       "1134        0  1014  279  ...       False         False        False   \n",
       "1135        0   605  226  ...       False         False        False   \n",
       "1136        0   531  211  ...       False         False         True   \n",
       "\n",
       "      type_Yucaipa  type_Yucca Flat  type_Zaybak  type_Zendeh Jan District  \\\n",
       "0            False            False        False                     False   \n",
       "1            False            False        False                     False   \n",
       "2            False            False        False                     False   \n",
       "3            False            False        False                     False   \n",
       "4            False            False        False                     False   \n",
       "...            ...              ...          ...                       ...   \n",
       "1132         False            False        False                      True   \n",
       "1133         False            False        False                      True   \n",
       "1134         False            False        False                      True   \n",
       "1135         False            False        False                     False   \n",
       "1136         False            False        False                     False   \n",
       "\n",
       "      type_دهستان جلگه چاه هاشم  type_دهستان مورموری  type_دهستان گهره  \n",
       "0                         False                False             False  \n",
       "1                         False                False             False  \n",
       "2                         False                False             False  \n",
       "3                         False                False             False  \n",
       "4                         False                False             False  \n",
       "...                         ...                  ...               ...  \n",
       "1132                      False                False             False  \n",
       "1133                      False                False             False  \n",
       "1134                      False                False             False  \n",
       "1135                      False                False             False  \n",
       "1136                      False                False             False  \n",
       "\n",
       "[1137 rows x 1703 columns]"
      ],
      "text/html": [
       "<div>\n",
       "<style scoped>\n",
       "    .dataframe tbody tr th:only-of-type {\n",
       "        vertical-align: middle;\n",
       "    }\n",
       "\n",
       "    .dataframe tbody tr th {\n",
       "        vertical-align: top;\n",
       "    }\n",
       "\n",
       "    .dataframe thead th {\n",
       "        text-align: right;\n",
       "    }\n",
       "</style>\n",
       "<table border=\"1\" class=\"dataframe\">\n",
       "  <thead>\n",
       "    <tr style=\"text-align: right;\">\n",
       "      <th></th>\n",
       "      <th>magnitude</th>\n",
       "      <th>time</th>\n",
       "      <th>updated</th>\n",
       "      <th>felt</th>\n",
       "      <th>cdi</th>\n",
       "      <th>mmi</th>\n",
       "      <th>alert</th>\n",
       "      <th>tsunami</th>\n",
       "      <th>sig</th>\n",
       "      <th>nst</th>\n",
       "      <th>...</th>\n",
       "      <th>type_Wushi</th>\n",
       "      <th>type_Yakutat</th>\n",
       "      <th>type_Yamgan</th>\n",
       "      <th>type_Yucaipa</th>\n",
       "      <th>type_Yucca Flat</th>\n",
       "      <th>type_Zaybak</th>\n",
       "      <th>type_Zendeh Jan District</th>\n",
       "      <th>type_دهستان جلگه چاه هاشم</th>\n",
       "      <th>type_دهستان مورموری</th>\n",
       "      <th>type_دهستان گهره</th>\n",
       "    </tr>\n",
       "  </thead>\n",
       "  <tbody>\n",
       "    <tr>\n",
       "      <th>0</th>\n",
       "      <td>4.8</td>\n",
       "      <td>1726534182289</td>\n",
       "      <td>1726583895255</td>\n",
       "      <td>1893</td>\n",
       "      <td>6</td>\n",
       "      <td>5</td>\n",
       "      <td>green</td>\n",
       "      <td>0</td>\n",
       "      <td>994</td>\n",
       "      <td>37</td>\n",
       "      <td>...</td>\n",
       "      <td>False</td>\n",
       "      <td>False</td>\n",
       "      <td>False</td>\n",
       "      <td>False</td>\n",
       "      <td>False</td>\n",
       "      <td>False</td>\n",
       "      <td>False</td>\n",
       "      <td>False</td>\n",
       "      <td>False</td>\n",
       "      <td>False</td>\n",
       "    </tr>\n",
       "    <tr>\n",
       "      <th>1</th>\n",
       "      <td>5.1</td>\n",
       "      <td>1726534182183</td>\n",
       "      <td>1726672002991</td>\n",
       "      <td>2042</td>\n",
       "      <td>6</td>\n",
       "      <td>5</td>\n",
       "      <td>green</td>\n",
       "      <td>0</td>\n",
       "      <td>1040</td>\n",
       "      <td>24</td>\n",
       "      <td>...</td>\n",
       "      <td>False</td>\n",
       "      <td>False</td>\n",
       "      <td>False</td>\n",
       "      <td>False</td>\n",
       "      <td>False</td>\n",
       "      <td>False</td>\n",
       "      <td>False</td>\n",
       "      <td>False</td>\n",
       "      <td>False</td>\n",
       "      <td>False</td>\n",
       "    </tr>\n",
       "    <tr>\n",
       "      <th>2</th>\n",
       "      <td>3.7</td>\n",
       "      <td>1726485728190</td>\n",
       "      <td>1726637414586</td>\n",
       "      <td>1580</td>\n",
       "      <td>4</td>\n",
       "      <td>4</td>\n",
       "      <td>unknown</td>\n",
       "      <td>0</td>\n",
       "      <td>591</td>\n",
       "      <td>135</td>\n",
       "      <td>...</td>\n",
       "      <td>False</td>\n",
       "      <td>False</td>\n",
       "      <td>False</td>\n",
       "      <td>False</td>\n",
       "      <td>False</td>\n",
       "      <td>False</td>\n",
       "      <td>False</td>\n",
       "      <td>False</td>\n",
       "      <td>False</td>\n",
       "      <td>False</td>\n",
       "    </tr>\n",
       "    <tr>\n",
       "      <th>3</th>\n",
       "      <td>3.9</td>\n",
       "      <td>1726333266539</td>\n",
       "      <td>1726584426218</td>\n",
       "      <td>5</td>\n",
       "      <td>3</td>\n",
       "      <td>4</td>\n",
       "      <td>green</td>\n",
       "      <td>0</td>\n",
       "      <td>236</td>\n",
       "      <td>38</td>\n",
       "      <td>...</td>\n",
       "      <td>False</td>\n",
       "      <td>False</td>\n",
       "      <td>False</td>\n",
       "      <td>False</td>\n",
       "      <td>False</td>\n",
       "      <td>False</td>\n",
       "      <td>False</td>\n",
       "      <td>False</td>\n",
       "      <td>False</td>\n",
       "      <td>False</td>\n",
       "    </tr>\n",
       "    <tr>\n",
       "      <th>4</th>\n",
       "      <td>4.1</td>\n",
       "      <td>1726333266382</td>\n",
       "      <td>1726334616179</td>\n",
       "      <td>4</td>\n",
       "      <td>3</td>\n",
       "      <td>4</td>\n",
       "      <td>green</td>\n",
       "      <td>0</td>\n",
       "      <td>260</td>\n",
       "      <td>28</td>\n",
       "      <td>...</td>\n",
       "      <td>False</td>\n",
       "      <td>False</td>\n",
       "      <td>False</td>\n",
       "      <td>False</td>\n",
       "      <td>False</td>\n",
       "      <td>False</td>\n",
       "      <td>False</td>\n",
       "      <td>False</td>\n",
       "      <td>False</td>\n",
       "      <td>False</td>\n",
       "    </tr>\n",
       "    <tr>\n",
       "      <th>...</th>\n",
       "      <td>...</td>\n",
       "      <td>...</td>\n",
       "      <td>...</td>\n",
       "      <td>...</td>\n",
       "      <td>...</td>\n",
       "      <td>...</td>\n",
       "      <td>...</td>\n",
       "      <td>...</td>\n",
       "      <td>...</td>\n",
       "      <td>...</td>\n",
       "      <td>...</td>\n",
       "      <td>...</td>\n",
       "      <td>...</td>\n",
       "      <td>...</td>\n",
       "      <td>...</td>\n",
       "      <td>...</td>\n",
       "      <td>...</td>\n",
       "      <td>...</td>\n",
       "      <td>...</td>\n",
       "      <td>...</td>\n",
       "      <td>...</td>\n",
       "    </tr>\n",
       "    <tr>\n",
       "      <th>1132</th>\n",
       "      <td>6.3</td>\n",
       "      <td>1696662769702</td>\n",
       "      <td>1702589215040</td>\n",
       "      <td>11</td>\n",
       "      <td>9</td>\n",
       "      <td>8</td>\n",
       "      <td>orange</td>\n",
       "      <td>0</td>\n",
       "      <td>1010</td>\n",
       "      <td>244</td>\n",
       "      <td>...</td>\n",
       "      <td>False</td>\n",
       "      <td>False</td>\n",
       "      <td>False</td>\n",
       "      <td>False</td>\n",
       "      <td>False</td>\n",
       "      <td>False</td>\n",
       "      <td>True</td>\n",
       "      <td>False</td>\n",
       "      <td>False</td>\n",
       "      <td>False</td>\n",
       "    </tr>\n",
       "    <tr>\n",
       "      <th>1133</th>\n",
       "      <td>5.4</td>\n",
       "      <td>1696661381156</td>\n",
       "      <td>1702589215040</td>\n",
       "      <td>0</td>\n",
       "      <td>0</td>\n",
       "      <td>7</td>\n",
       "      <td>yellow</td>\n",
       "      <td>0</td>\n",
       "      <td>650</td>\n",
       "      <td>165</td>\n",
       "      <td>...</td>\n",
       "      <td>False</td>\n",
       "      <td>False</td>\n",
       "      <td>False</td>\n",
       "      <td>False</td>\n",
       "      <td>False</td>\n",
       "      <td>False</td>\n",
       "      <td>True</td>\n",
       "      <td>False</td>\n",
       "      <td>False</td>\n",
       "      <td>False</td>\n",
       "    </tr>\n",
       "    <tr>\n",
       "      <th>1134</th>\n",
       "      <td>6.3</td>\n",
       "      <td>1696660863327</td>\n",
       "      <td>1702589215040</td>\n",
       "      <td>19</td>\n",
       "      <td>8</td>\n",
       "      <td>8</td>\n",
       "      <td>orange</td>\n",
       "      <td>0</td>\n",
       "      <td>1014</td>\n",
       "      <td>279</td>\n",
       "      <td>...</td>\n",
       "      <td>False</td>\n",
       "      <td>False</td>\n",
       "      <td>False</td>\n",
       "      <td>False</td>\n",
       "      <td>False</td>\n",
       "      <td>False</td>\n",
       "      <td>True</td>\n",
       "      <td>False</td>\n",
       "      <td>False</td>\n",
       "      <td>False</td>\n",
       "    </tr>\n",
       "    <tr>\n",
       "      <th>1135</th>\n",
       "      <td>5.7</td>\n",
       "      <td>1696324863018</td>\n",
       "      <td>1702589211040</td>\n",
       "      <td>131</td>\n",
       "      <td>8</td>\n",
       "      <td>7</td>\n",
       "      <td>green</td>\n",
       "      <td>0</td>\n",
       "      <td>605</td>\n",
       "      <td>226</td>\n",
       "      <td>...</td>\n",
       "      <td>False</td>\n",
       "      <td>False</td>\n",
       "      <td>False</td>\n",
       "      <td>False</td>\n",
       "      <td>False</td>\n",
       "      <td>False</td>\n",
       "      <td>False</td>\n",
       "      <td>False</td>\n",
       "      <td>False</td>\n",
       "      <td>False</td>\n",
       "    </tr>\n",
       "    <tr>\n",
       "      <th>1136</th>\n",
       "      <td>5.8</td>\n",
       "      <td>1691251309816</td>\n",
       "      <td>1696714739040</td>\n",
       "      <td>25</td>\n",
       "      <td>5</td>\n",
       "      <td>4</td>\n",
       "      <td>green</td>\n",
       "      <td>0</td>\n",
       "      <td>531</td>\n",
       "      <td>211</td>\n",
       "      <td>...</td>\n",
       "      <td>False</td>\n",
       "      <td>False</td>\n",
       "      <td>True</td>\n",
       "      <td>False</td>\n",
       "      <td>False</td>\n",
       "      <td>False</td>\n",
       "      <td>False</td>\n",
       "      <td>False</td>\n",
       "      <td>False</td>\n",
       "      <td>False</td>\n",
       "    </tr>\n",
       "  </tbody>\n",
       "</table>\n",
       "<p>1137 rows × 1703 columns</p>\n",
       "</div>"
      ]
     },
     "execution_count": 161,
     "metadata": {},
     "output_type": "execute_result"
    }
   ],
   "execution_count": 161
  },
  {
   "metadata": {
    "ExecuteTime": {
     "end_time": "2025-01-14T06:43:14.689808Z",
     "start_time": "2025-01-14T06:43:14.600637Z"
    }
   },
   "cell_type": "code",
   "source": [
    "# Sample set x_data and label set y_data \n",
    "x_data = data.drop(['alert'], axis=1)\n",
    "x_data = StandardScaler().fit_transform(x_data)\n",
    "y_data = data['alert']"
   ],
   "id": "213b8577d74d5301",
   "outputs": [],
   "execution_count": 162
  },
  {
   "metadata": {
    "ExecuteTime": {
     "end_time": "2025-01-14T06:43:15.659138Z",
     "start_time": "2025-01-14T06:43:15.656494Z"
    }
   },
   "cell_type": "code",
   "source": [
    "# Function to split the training set and validation set\n",
    "def split_data(x_data, y_data, test_size):\n",
    "    x_train, x_test, y_train, y_test = train_test_split(x_data,\n",
    "                                                        y_data,\n",
    "                                                        test_size=test_size,\n",
    "                                                        random_state=42)\n",
    "    return x_train, x_test, y_train, y_test"
   ],
   "id": "2a0a496cbee0f40c",
   "outputs": [],
   "execution_count": 163
  },
  {
   "metadata": {
    "ExecuteTime": {
     "end_time": "2025-01-14T06:43:15.689616Z",
     "start_time": "2025-01-14T06:43:15.686426Z"
    }
   },
   "cell_type": "code",
   "source": [
    "def evaluate_model(start_time, end_time, y_test_reg, y_pred):\n",
    "    print(f'Training time: {end_time - start_time}s')\n",
    "    print(f'Mean Square Error: {mean_squared_error(y_test_reg, y_pred)}')\n",
    "    print(f'R2 Score: {r2_score(y_test_reg, y_pred)}')"
   ],
   "id": "447d6d8985d2c293",
   "outputs": [],
   "execution_count": 164
  },
  {
   "metadata": {},
   "cell_type": "markdown",
   "source": "### Thực hiện trên dữ liệu gốc",
   "id": "326cc8e928ebb957"
  },
  {
   "metadata": {
    "ExecuteTime": {
     "end_time": "2025-01-14T06:43:15.700236Z",
     "start_time": "2025-01-14T06:43:15.696148Z"
    }
   },
   "cell_type": "code",
   "source": [
    "def svm_to_lasso_regression_original(x_data, y_data, test_size):\n",
    "    # Split the data\n",
    "    x_train, x_test, y_train, y_test = split_data(x_data, y_data, test_size)\n",
    "\n",
    "    # Train the model\n",
    "    svm = SVC(kernel='linear', decision_function_shape='ovr', probability=True)\n",
    "    svm.fit(x_train, y_train)\n",
    "\n",
    "    # Encode labels and find the index of the 'green' class\n",
    "    label_encoder = LabelEncoder()\n",
    "    label_encoder.fit(y_data)\n",
    "    green_class_index = np.where(label_encoder.classes_ == \"green\")[0][0]\n",
    "\n",
    "    # Compute decision scores for training and testing data\n",
    "    decision_scores_train = svm.decision_function(x_train)\n",
    "    decision_scores_test = svm.decision_function(x_test)\n",
    "\n",
    "    # Extract decision scores for the 'green' class\n",
    "    decision_scores_train_green = decision_scores_train[:, green_class_index]\n",
    "    decision_scores_test_green = decision_scores_test[:, green_class_index]\n",
    "\n",
    "    # Prepare data for regression\n",
    "    x_train_reg = x_train\n",
    "    y_train_reg = decision_scores_train_green\n",
    "    x_test_reg = x_test\n",
    "    y_test_reg = decision_scores_test_green\n",
    "\n",
    "    # Train regression model\n",
    "    start_time = time.perf_counter()\n",
    "    lasso = Lasso(alpha=0.1, random_state=42)\n",
    "    lasso.fit(x_train_reg, y_train_reg)\n",
    "    end_time = time.perf_counter()\n",
    "\n",
    "    # Predict and evaluate\n",
    "    y_pred = lasso.predict(x_test_reg)\n",
    "    evaluate_model(start_time, end_time, y_test_reg, y_pred)"
   ],
   "id": "f0eb28f786f80908",
   "outputs": [],
   "execution_count": 165
  },
  {
   "metadata": {
    "ExecuteTime": {
     "end_time": "2025-01-14T06:43:15.714325Z",
     "start_time": "2025-01-14T06:43:15.709807Z"
    }
   },
   "cell_type": "code",
   "source": [
    "def svm_to_linear_regression_original(x_data, y_data, test_size):\n",
    "    # Split the data\n",
    "    x_train, x_test, y_train, y_test = split_data(x_data, y_data, test_size)\n",
    "\n",
    "    # Train the SVM model\n",
    "    svm = SVC(kernel='linear', decision_function_shape='ovr', probability=True)\n",
    "    svm.fit(x_train, y_train)\n",
    "\n",
    "    # Encode labels and find the index of the 'green' class\n",
    "    label_encoder = LabelEncoder()\n",
    "    label_encoder.fit(y_data)\n",
    "    green_class_index = np.where(label_encoder.classes_ == \"green\")[0][0]\n",
    "\n",
    "    # Compute decision scores for training and testing data\n",
    "    decision_scores_train = svm.decision_function(x_train)\n",
    "    decision_scores_test = svm.decision_function(x_test)\n",
    "\n",
    "    # Extract decision scores for the 'green' class\n",
    "    decision_scores_train_green = decision_scores_train[:, green_class_index]\n",
    "    decision_scores_test_green = decision_scores_test[:, green_class_index]\n",
    "\n",
    "    # Prepare data for regression\n",
    "    x_train_reg = x_train\n",
    "    y_train_reg = decision_scores_train_green\n",
    "    x_test_reg = x_test\n",
    "    y_test_reg = decision_scores_test_green\n",
    "\n",
    "    # Train the regression model\n",
    "    start_time = time.perf_counter()\n",
    "    linear = LinearRegression()\n",
    "    linear.fit(x_train_reg, y_train_reg)\n",
    "    end_time = time.perf_counter()\n",
    "\n",
    "    # Predict using the regression model\n",
    "    y_pred = linear.predict(x_test_reg)\n",
    "\n",
    "    # Evaluate the model\n",
    "    evaluate_model(start_time, end_time, y_test_reg, y_pred)"
   ],
   "id": "62eeb9d08a498fb",
   "outputs": [],
   "execution_count": 166
  },
  {
   "metadata": {},
   "cell_type": "markdown",
   "source": "### Thực hiện trên dữ liệu đã giảm còn $\\dfrac{1}{3}$ số chiều \n",
   "id": "5826857024a46d1b"
  },
  {
   "metadata": {
    "ExecuteTime": {
     "end_time": "2025-01-14T06:43:15.725229Z",
     "start_time": "2025-01-14T06:43:15.719206Z"
    }
   },
   "cell_type": "code",
   "source": [
    "def svm_to_lasso_regression_pca(x_data, y_data, test_size):\n",
    "    # -----------------------------------PREPROCESSING-----------------------------------\n",
    "    # Reduce dimensions of x_data using PCA\n",
    "    pca = PCA(n_components=min(x_data.shape[1] // 3, x_data.shape[1] - 1), random_state=42)\n",
    "    x_data_pca = pca.fit_transform(x_data)\n",
    "\n",
    "    # -----------------------------------SPLIT DATA-----------------------------------\n",
    "    x_train, x_test, y_train, y_test = split_data(x_data_pca, y_data, test_size)\n",
    "\n",
    "    # -----------------------------------SVM MODEL TRAINING-----------------------------------\n",
    "    # Train the SVM model\n",
    "    svm = SVC(kernel='linear', decision_function_shape='ovr', probability=True)\n",
    "    svm.fit(x_train, y_train)\n",
    "\n",
    "    # -----------------------------------EXTRACT DECISION FUNCTION FOR \"green\" LABEL-----------------------------------\n",
    "    label_encoder = LabelEncoder()\n",
    "    label_encoder.fit(y_data)\n",
    "    decision_scores_train = svm.decision_function(x_train)\n",
    "    decision_scores_test = svm.decision_function(x_test)\n",
    "\n",
    "    # Find the index for the \"green\" label and get the decision score for that label\n",
    "    green_class_index = np.where(label_encoder.classes_ == \"green\")[0][0]\n",
    "    decision_scores_train_green = decision_scores_train[:, green_class_index]\n",
    "    decision_scores_test_green = decision_scores_test[:, green_class_index]\n",
    "\n",
    "    # -----------------------------------REGRESSION MODEL-----------------------------------\n",
    "    start_time = time.perf_counter()\n",
    "\n",
    "    # Train regression model (Lasso)\n",
    "    lasso = Lasso(alpha=0.1, random_state=42)\n",
    "    lasso.fit(x_train, decision_scores_train_green)\n",
    "\n",
    "    end_time = time.perf_counter()\n",
    "\n",
    "    # -----------------------------------PREDICTION AND EVALUATION-----------------------------------\n",
    "    # Predict using Lasso model\n",
    "    y_pred = lasso.predict(x_test)\n",
    "\n",
    "    # Evaluate the model\n",
    "    evaluate_model(start_time, end_time, decision_scores_test_green, y_pred)"
   ],
   "id": "cae3c66cc347f2ae",
   "outputs": [],
   "execution_count": 167
  },
  {
   "metadata": {
    "ExecuteTime": {
     "end_time": "2025-01-14T06:43:15.746676Z",
     "start_time": "2025-01-14T06:43:15.736584Z"
    }
   },
   "cell_type": "code",
   "source": [
    "def svm_to_linear_regression_pca(x_data, y_data, test_size):\n",
    "    # -----------------------------------DIMENSIONALITY REDUCTION-----------------------------------\n",
    "    # Reduce dimensions of x_data using PCA\n",
    "    pca = PCA(n_components=min(x_data.shape[1] // 3, x_data.shape[1] - 1), random_state=42)\n",
    "    x_data_pca = pca.fit_transform(x_data)  # Reduce the dimensionality of the data\n",
    "\n",
    "    # -----------------------------------SPLIT DATA-----------------------------------\n",
    "    x_train, x_test, y_train, y_test = split_data(x_data_pca, y_data, test_size)\n",
    "\n",
    "    # -----------------------------------SVM MODEL TRAINING-----------------------------------\n",
    "    # Train the SVM model\n",
    "    svm = SVC(kernel='linear', decision_function_shape='ovr', probability=True)\n",
    "    svm.fit(x_train, y_train)\n",
    "\n",
    "    # -----------------------------------EXTRACT DECISION FUNCTION FOR \"green\" LABEL-----------------------------------\n",
    "    label_encoder = LabelEncoder()\n",
    "    label_encoder.fit(y_data)\n",
    "\n",
    "    decision_scores_train = svm.decision_function(x_train)\n",
    "    decision_scores_test = svm.decision_function(x_test)\n",
    "\n",
    "    # Find the index for the \"green\" label and get the decision score for that label\n",
    "    green_class_index = np.where(label_encoder.classes_ == \"green\")[0][0]\n",
    "    decision_scores_train_green = decision_scores_train[:, green_class_index]\n",
    "    decision_scores_test_green = decision_scores_test[:, green_class_index]\n",
    "\n",
    "    # -----------------------------------REGRESSION MODEL-----------------------------------\n",
    "    start_time = time.perf_counter()\n",
    "\n",
    "    # Train regression model (Linear Regression)\n",
    "    linear = LinearRegression()\n",
    "    linear.fit(x_train, decision_scores_train_green)\n",
    "\n",
    "    end_time = time.perf_counter()\n",
    "\n",
    "    # -----------------------------------PREDICTION AND EVALUATION-----------------------------------\n",
    "    # Predict using Linear Regression model\n",
    "    y_pred = linear.predict(x_test)\n",
    "\n",
    "    # Evaluate the model\n",
    "    evaluate_model(start_time, end_time, decision_scores_test_green, y_pred)"
   ],
   "id": "2974df573e064770",
   "outputs": [],
   "execution_count": 168
  },
  {
   "metadata": {},
   "cell_type": "markdown",
   "source": "### Dữ liệu gốc",
   "id": "1d460f9f9500bab8"
  },
  {
   "metadata": {},
   "cell_type": "markdown",
   "source": "#### Lasso Regression",
   "id": "aee3ba51b1893b91"
  },
  {
   "metadata": {},
   "cell_type": "markdown",
   "source": "***Tỷ lệ train:test là 4:1***",
   "id": "3767d037db4b4886"
  },
  {
   "metadata": {
    "ExecuteTime": {
     "end_time": "2025-01-14T06:43:16.927681Z",
     "start_time": "2025-01-14T06:43:15.790855Z"
    }
   },
   "cell_type": "code",
   "source": "svm_to_lasso_regression_original(x_data, y_data, 0.2)",
   "id": "7cbaabec373fe2c0",
   "outputs": [
    {
     "name": "stdout",
     "output_type": "stream",
     "text": [
      "Training time: 0.0318608999996286s\n",
      "Mean Square Error: 0.17449948952736555\n",
      "R2 Score: 0.560323146568056\n"
     ]
    }
   ],
   "execution_count": 169
  },
  {
   "metadata": {},
   "cell_type": "markdown",
   "source": "***Tỷ lệ train:test là 7:3***",
   "id": "abd8caf3268341f3"
  },
  {
   "metadata": {
    "ExecuteTime": {
     "end_time": "2025-01-14T06:43:19.526206Z",
     "start_time": "2025-01-14T06:43:18.646793Z"
    }
   },
   "cell_type": "code",
   "source": "svm_to_lasso_regression_original(x_data, y_data, 0.3)",
   "id": "39b0461364b67f0d",
   "outputs": [
    {
     "name": "stdout",
     "output_type": "stream",
     "text": [
      "Training time: 0.027729599999474885s\n",
      "Mean Square Error: 0.17077160958252133\n",
      "R2 Score: 0.5456786427886942\n"
     ]
    }
   ],
   "execution_count": 170
  },
  {
   "metadata": {},
   "cell_type": "markdown",
   "source": "***Tỷ lệ train:test là 6:4***",
   "id": "f287ac9fb78f1a92"
  },
  {
   "metadata": {
    "ExecuteTime": {
     "end_time": "2025-01-14T06:43:20.228609Z",
     "start_time": "2025-01-14T06:43:19.542110Z"
    }
   },
   "cell_type": "code",
   "source": "svm_to_lasso_regression_original(x_data, y_data, 0.4)",
   "id": "9db27ec167456eb5",
   "outputs": [
    {
     "name": "stdout",
     "output_type": "stream",
     "text": [
      "Training time: 0.019109500000013213s\n",
      "Mean Square Error: 0.16666929676887024\n",
      "R2 Score: 0.49454420194556425\n"
     ]
    }
   ],
   "execution_count": 171
  },
  {
   "metadata": {},
   "cell_type": "markdown",
   "source": "#### Linear Regression",
   "id": "b1c6855daf697916"
  },
  {
   "metadata": {},
   "cell_type": "markdown",
   "source": "***Tỷ lệ train:test là 4:1***",
   "id": "b9a31e68f85acad3"
  },
  {
   "metadata": {
    "ExecuteTime": {
     "end_time": "2025-01-14T06:43:25.746551Z",
     "start_time": "2025-01-14T06:43:20.258525Z"
    }
   },
   "cell_type": "code",
   "source": "svm_to_linear_regression_original(x_data, y_data, 0.2)",
   "id": "2b3fda39d4433f39",
   "outputs": [
    {
     "name": "stdout",
     "output_type": "stream",
     "text": [
      "Training time: 4.448074899999483s\n",
      "Mean Square Error: 7.971724276557289e+26\n",
      "R2 Score: -2.0085919195735444e+27\n"
     ]
    }
   ],
   "execution_count": 172
  },
  {
   "metadata": {},
   "cell_type": "markdown",
   "source": "***Tỷ lệ train:test là 7:3***",
   "id": "6b4663c1492bd968"
  },
  {
   "metadata": {
    "ExecuteTime": {
     "end_time": "2025-01-14T06:43:30.015481Z",
     "start_time": "2025-01-14T06:43:25.752557Z"
    }
   },
   "cell_type": "code",
   "source": "svm_to_linear_regression_original(x_data, y_data, 0.3)",
   "id": "1262b2c72f7dfc08",
   "outputs": [
    {
     "name": "stdout",
     "output_type": "stream",
     "text": [
      "Training time: 3.477676800000154s\n",
      "Mean Square Error: 9.078026752171202e+26\n",
      "R2 Score: -2.415121251670333e+27\n"
     ]
    }
   ],
   "execution_count": 173
  },
  {
   "metadata": {},
   "cell_type": "markdown",
   "source": "***Tỷ lệ train:test là 6:4***",
   "id": "be03c18482619ad"
  },
  {
   "metadata": {
    "ExecuteTime": {
     "end_time": "2025-01-14T06:43:33.486138Z",
     "start_time": "2025-01-14T06:43:30.031077Z"
    }
   },
   "cell_type": "code",
   "source": "svm_to_linear_regression_original(x_data, y_data, 0.4)",
   "id": "eca09ee44dc982a0",
   "outputs": [
    {
     "name": "stdout",
     "output_type": "stream",
     "text": [
      "Training time: 2.7720111999997243s\n",
      "Mean Square Error: 6.373899044849628e+26\n",
      "R2 Score: -1.9330040330707236e+27\n"
     ]
    }
   ],
   "execution_count": 174
  },
  {
   "metadata": {},
   "cell_type": "markdown",
   "source": "### Dữ liệu đã giảm còn $\\dfrac{1}{3}$ số chiều",
   "id": "30bdf3f3372c5dcc"
  },
  {
   "metadata": {},
   "cell_type": "markdown",
   "source": "#### Lasso Regression",
   "id": "43b9b1822b396919"
  },
  {
   "metadata": {},
   "cell_type": "markdown",
   "source": "***Tỷ lệ train:test là 4:1***",
   "id": "caa3fdc1e1dd5324"
  },
  {
   "metadata": {
    "ExecuteTime": {
     "end_time": "2025-01-14T06:43:44.716081Z",
     "start_time": "2025-01-14T06:43:33.508180Z"
    }
   },
   "cell_type": "code",
   "source": "svm_to_lasso_regression_pca(x_data, y_data, 0.2)",
   "id": "9690204125651683",
   "outputs": [
    {
     "name": "stdout",
     "output_type": "stream",
     "text": [
      "Training time: 0.012448499999663909s\n",
      "Mean Square Error: 0.2022325134803679\n",
      "R2 Score: 0.4904356659792637\n"
     ]
    }
   ],
   "execution_count": 175
  },
  {
   "metadata": {},
   "cell_type": "markdown",
   "source": "***Tỷ lệ train:test là 7:3***",
   "id": "58e11020a9000b81"
  },
  {
   "metadata": {
    "ExecuteTime": {
     "end_time": "2025-01-14T06:43:56.671935Z",
     "start_time": "2025-01-14T06:43:44.731667Z"
    }
   },
   "cell_type": "code",
   "source": "svm_to_lasso_regression_pca(x_data, y_data, 0.3)",
   "id": "cf4f70a2f0796d87",
   "outputs": [
    {
     "name": "stdout",
     "output_type": "stream",
     "text": [
      "Training time: 0.005556799999794748s\n",
      "Mean Square Error: 0.1864970190563339\n",
      "R2 Score: 0.5038449005033292\n"
     ]
    }
   ],
   "execution_count": 176
  },
  {
   "metadata": {},
   "cell_type": "markdown",
   "source": "***Tỷ lệ train:test là 6:4***",
   "id": "67575e1de1709680"
  },
  {
   "metadata": {
    "ExecuteTime": {
     "end_time": "2025-01-14T06:44:08.299014Z",
     "start_time": "2025-01-14T06:43:56.687932Z"
    }
   },
   "cell_type": "code",
   "source": "svm_to_lasso_regression_pca(x_data, y_data, 0.4)",
   "id": "2daab8bc7ab1e8d4",
   "outputs": [
    {
     "name": "stdout",
     "output_type": "stream",
     "text": [
      "Training time: 0.0033138999997390783s\n",
      "Mean Square Error: 0.1801536990310301\n",
      "R2 Score: 0.4536462661549273\n"
     ]
    }
   ],
   "execution_count": 177
  },
  {
   "metadata": {},
   "cell_type": "markdown",
   "source": "#### Linear Regression",
   "id": "deedb583bcbea838"
  },
  {
   "metadata": {},
   "cell_type": "markdown",
   "source": "***Tỷ lệ train:test là 4:1***",
   "id": "7ffd8ab99c319a09"
  },
  {
   "metadata": {
    "ExecuteTime": {
     "end_time": "2025-01-14T06:44:21.699361Z",
     "start_time": "2025-01-14T06:44:08.313120Z"
    }
   },
   "cell_type": "code",
   "source": "svm_to_linear_regression_pca(x_data, y_data, 0.2)",
   "id": "e00a1f53b3b45f47",
   "outputs": [
    {
     "name": "stdout",
     "output_type": "stream",
     "text": [
      "Training time: 1.5471462000004976s\n",
      "Mean Square Error: 6.504820218954588e+27\n",
      "R2 Score: -1.6390165585901146e+28\n"
     ]
    }
   ],
   "execution_count": 178
  },
  {
   "metadata": {},
   "cell_type": "markdown",
   "source": "***Tỷ lệ train:test là 7:3***",
   "id": "abe8a3e671afd77a"
  },
  {
   "metadata": {
    "ExecuteTime": {
     "end_time": "2025-01-14T06:44:33.096285Z",
     "start_time": "2025-01-14T06:44:21.715584Z"
    }
   },
   "cell_type": "code",
   "source": "svm_to_linear_regression_pca(x_data, y_data, 0.3)",
   "id": "e6dd9459ae6f7ac0",
   "outputs": [
    {
     "name": "stdout",
     "output_type": "stream",
     "text": [
      "Training time: 0.4542890000002444s\n",
      "Mean Square Error: 1.2455371980673353e+28\n",
      "R2 Score: -3.313616676346094e+28\n"
     ]
    }
   ],
   "execution_count": 179
  },
  {
   "metadata": {},
   "cell_type": "markdown",
   "source": "***Tỷ lệ train:test là 6:4***",
   "id": "83bcade44bb93ecb"
  },
  {
   "metadata": {
    "ExecuteTime": {
     "end_time": "2025-01-14T06:44:43.791300Z",
     "start_time": "2025-01-14T06:44:33.111469Z"
    }
   },
   "cell_type": "code",
   "source": "svm_to_linear_regression_pca(x_data, y_data, 0.4)",
   "id": "6cf28a40dfc65afe",
   "outputs": [
    {
     "name": "stdout",
     "output_type": "stream",
     "text": [
      "Training time: 0.6776749000000564s\n",
      "Mean Square Error: 1.2261587977416896e+28\n",
      "R2 Score: -3.7185827492655005e+28\n"
     ]
    }
   ],
   "execution_count": 180
  }
 ],
 "metadata": {
  "kernelspec": {
   "display_name": "Python 3",
   "language": "python",
   "name": "python3"
  },
  "language_info": {
   "codemirror_mode": {
    "name": "ipython",
    "version": 2
   },
   "file_extension": ".py",
   "mimetype": "text/x-python",
   "name": "python",
   "nbconvert_exporter": "python",
   "pygments_lexer": "ipython2",
   "version": "2.7.6"
  }
 },
 "nbformat": 4,
 "nbformat_minor": 5
}
