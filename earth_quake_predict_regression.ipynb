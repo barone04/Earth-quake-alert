{
 "cells": [
  {
   "metadata": {
    "ExecuteTime": {
     "end_time": "2025-01-14T01:04:28.564639Z",
     "start_time": "2025-01-14T01:04:28.487424Z"
    }
   },
   "cell_type": "code",
   "source": [
    "import pandas as pd, seaborn as sns, matplotlib.pyplot as plt, numpy as np, time\n",
    "from sklearn.decomposition import PCA\n",
    "from sklearn.discriminant_analysis import LinearDiscriminantAnalysis as LDA\n",
    "from sklearn.preprocessing import StandardScaler\n",
    "from sklearn.model_selection import train_test_split\n",
    "from sklearn.metrics import mean_squared_error, mean_absolute_error, root_mean_squared_error, r2_score\n",
    "from sklearn.linear_model import Lasso, LinearRegression\n",
    "from sklearn.svm import SVC\n",
    "from sklearn.preprocessing import LabelEncoder"
   ],
   "id": "c8503a31459717e",
   "outputs": [],
   "execution_count": 32
  },
  {
   "metadata": {
    "ExecuteTime": {
     "end_time": "2025-01-14T01:04:28.865166Z",
     "start_time": "2025-01-14T01:04:28.616801Z"
    }
   },
   "cell_type": "code",
   "source": [
    "# Read data\n",
    "# Change data path on your computer\n",
    "data_path = 'earthquakes.csv'\n",
    "data = pd.read_csv(data_path)\n",
    "# Print the data information\n",
    "data.info()"
   ],
   "id": "f5bea9acd8baab86",
   "outputs": [
    {
     "name": "stdout",
     "output_type": "stream",
     "text": [
      "<class 'pandas.core.frame.DataFrame'>\n",
      "RangeIndex: 1137 entries, 0 to 1136\n",
      "Data columns (total 43 columns):\n",
      " #   Column           Non-Null Count  Dtype  \n",
      "---  ------           --------------  -----  \n",
      " 0   id               1137 non-null   object \n",
      " 1   magnitude        1137 non-null   float64\n",
      " 2   type             1137 non-null   object \n",
      " 3   title            1137 non-null   object \n",
      " 4   date             1137 non-null   object \n",
      " 5   time             1137 non-null   int64  \n",
      " 6   updated          1137 non-null   int64  \n",
      " 7   url              1137 non-null   object \n",
      " 8   detailUrl        1137 non-null   object \n",
      " 9   felt             1137 non-null   int64  \n",
      " 10  cdi              1137 non-null   int64  \n",
      " 11  mmi              1137 non-null   int64  \n",
      " 12  alert            764 non-null    object \n",
      " 13  status           1137 non-null   object \n",
      " 14  tsunami          1137 non-null   int64  \n",
      " 15  sig              1137 non-null   int64  \n",
      " 16  net              1137 non-null   object \n",
      " 17  code             1137 non-null   object \n",
      " 18  ids              1137 non-null   object \n",
      " 19  sources          1137 non-null   object \n",
      " 20  types            1137 non-null   object \n",
      " 21  nst              1137 non-null   int64  \n",
      " 22  dmin             1137 non-null   float64\n",
      " 23  rms              1137 non-null   float64\n",
      " 24  gap              1137 non-null   float64\n",
      " 25  magType          1137 non-null   object \n",
      " 26  geometryType     1137 non-null   object \n",
      " 27  depth            1137 non-null   float64\n",
      " 28  latitude         1137 non-null   float64\n",
      " 29  longitude        1137 non-null   float64\n",
      " 30  place            1137 non-null   object \n",
      " 31  distanceKM       1137 non-null   int64  \n",
      " 32  placeOnly        1137 non-null   object \n",
      " 33  location         1137 non-null   object \n",
      " 34  continent        867 non-null    object \n",
      " 35  country          799 non-null    object \n",
      " 36  subnational      716 non-null    object \n",
      " 37  city             674 non-null    object \n",
      " 38  locality         1137 non-null   object \n",
      " 39  postcode         197 non-null    float64\n",
      " 40  what3words       1137 non-null   object \n",
      " 41  timezone         1137 non-null   int64  \n",
      " 42  locationDetails  1137 non-null   object \n",
      "dtypes: float64(8), int64(10), object(25)\n",
      "memory usage: 382.1+ KB\n"
     ]
    }
   ],
   "execution_count": 33
  },
  {
   "metadata": {
    "ExecuteTime": {
     "end_time": "2025-01-14T01:04:29.026915Z",
     "start_time": "2025-01-14T01:04:28.911558Z"
    }
   },
   "cell_type": "code",
   "source": [
    "# Remove some features that aren't important for classify / clustering the alert of the earthquake\n",
    "# Feature 'date' is already converted to float type in the original dataset \n",
    "data.drop(['id', 'date', 'title', 'url', 'detailUrl', 'ids', 'sources',\n",
    "           'types', 'net', 'code', 'geometryType', 'status',\n",
    "           'postcode', 'what3words', 'locationDetails'], axis=1, inplace=True)\n",
    "\n",
    "# Replace Null value of column 'alert' to unknown \n",
    "data.fillna({'alert': 'unknown'}, inplace=True)\n",
    "\n",
    "# NA-value columns will be filled by 'unknown' value\n",
    "na_column = data.columns[data.isna().any()].tolist()\n",
    "\n",
    "for column in na_column:\n",
    "    data.fillna({column: 'unknown'}, inplace=True)\n",
    "\n",
    "# String-value columns will be one-hot coding\n",
    "string_columns = data.select_dtypes(include=['object']).columns.tolist()\n",
    "string_columns.remove('alert')\n",
    "\n",
    "# One-hot coding\n",
    "for column in string_columns:\n",
    "    dummies = pd.get_dummies(data[column], prefix='type')\n",
    "    data.drop([column], axis=1, inplace=True)\n",
    "    data = pd.concat([data, dummies], axis=1)\n",
    "\n",
    "pd.DataFrame(data)"
   ],
   "id": "822f4859dbb90c3d",
   "outputs": [
    {
     "data": {
      "text/plain": [
       "      magnitude           time        updated  felt  cdi  mmi    alert  \\\n",
       "0           4.8  1726534182289  1726583895255  1893    6    5    green   \n",
       "1           5.1  1726534182183  1726672002991  2042    6    5    green   \n",
       "2           3.7  1726485728190  1726637414586  1580    4    4  unknown   \n",
       "3           3.9  1726333266539  1726584426218     5    3    4    green   \n",
       "4           4.1  1726333266382  1726334616179     4    3    4    green   \n",
       "...         ...            ...            ...   ...  ...  ...      ...   \n",
       "1132        6.3  1696662769702  1702589215040    11    9    8   orange   \n",
       "1133        5.4  1696661381156  1702589215040     0    0    7   yellow   \n",
       "1134        6.3  1696660863327  1702589215040    19    8    8   orange   \n",
       "1135        5.7  1696324863018  1702589211040   131    8    7    green   \n",
       "1136        5.8  1691251309816  1696714739040    25    5    4    green   \n",
       "\n",
       "      tsunami   sig  nst  ...  type_Wushi  type_Yakutat  type_Yamgan  \\\n",
       "0           0   994   37  ...       False         False        False   \n",
       "1           0  1040   24  ...       False         False        False   \n",
       "2           0   591  135  ...       False         False        False   \n",
       "3           0   236   38  ...       False         False        False   \n",
       "4           0   260   28  ...       False         False        False   \n",
       "...       ...   ...  ...  ...         ...           ...          ...   \n",
       "1132        0  1010  244  ...       False         False        False   \n",
       "1133        0   650  165  ...       False         False        False   \n",
       "1134        0  1014  279  ...       False         False        False   \n",
       "1135        0   605  226  ...       False         False        False   \n",
       "1136        0   531  211  ...       False         False         True   \n",
       "\n",
       "      type_Yucaipa  type_Yucca Flat  type_Zaybak  type_Zendeh Jan District  \\\n",
       "0            False            False        False                     False   \n",
       "1            False            False        False                     False   \n",
       "2            False            False        False                     False   \n",
       "3            False            False        False                     False   \n",
       "4            False            False        False                     False   \n",
       "...            ...              ...          ...                       ...   \n",
       "1132         False            False        False                      True   \n",
       "1133         False            False        False                      True   \n",
       "1134         False            False        False                      True   \n",
       "1135         False            False        False                     False   \n",
       "1136         False            False        False                     False   \n",
       "\n",
       "      type_دهستان جلگه چاه هاشم  type_دهستان مورموری  type_دهستان گهره  \n",
       "0                         False                False             False  \n",
       "1                         False                False             False  \n",
       "2                         False                False             False  \n",
       "3                         False                False             False  \n",
       "4                         False                False             False  \n",
       "...                         ...                  ...               ...  \n",
       "1132                      False                False             False  \n",
       "1133                      False                False             False  \n",
       "1134                      False                False             False  \n",
       "1135                      False                False             False  \n",
       "1136                      False                False             False  \n",
       "\n",
       "[1137 rows x 1703 columns]"
      ],
      "text/html": [
       "<div>\n",
       "<style scoped>\n",
       "    .dataframe tbody tr th:only-of-type {\n",
       "        vertical-align: middle;\n",
       "    }\n",
       "\n",
       "    .dataframe tbody tr th {\n",
       "        vertical-align: top;\n",
       "    }\n",
       "\n",
       "    .dataframe thead th {\n",
       "        text-align: right;\n",
       "    }\n",
       "</style>\n",
       "<table border=\"1\" class=\"dataframe\">\n",
       "  <thead>\n",
       "    <tr style=\"text-align: right;\">\n",
       "      <th></th>\n",
       "      <th>magnitude</th>\n",
       "      <th>time</th>\n",
       "      <th>updated</th>\n",
       "      <th>felt</th>\n",
       "      <th>cdi</th>\n",
       "      <th>mmi</th>\n",
       "      <th>alert</th>\n",
       "      <th>tsunami</th>\n",
       "      <th>sig</th>\n",
       "      <th>nst</th>\n",
       "      <th>...</th>\n",
       "      <th>type_Wushi</th>\n",
       "      <th>type_Yakutat</th>\n",
       "      <th>type_Yamgan</th>\n",
       "      <th>type_Yucaipa</th>\n",
       "      <th>type_Yucca Flat</th>\n",
       "      <th>type_Zaybak</th>\n",
       "      <th>type_Zendeh Jan District</th>\n",
       "      <th>type_دهستان جلگه چاه هاشم</th>\n",
       "      <th>type_دهستان مورموری</th>\n",
       "      <th>type_دهستان گهره</th>\n",
       "    </tr>\n",
       "  </thead>\n",
       "  <tbody>\n",
       "    <tr>\n",
       "      <th>0</th>\n",
       "      <td>4.8</td>\n",
       "      <td>1726534182289</td>\n",
       "      <td>1726583895255</td>\n",
       "      <td>1893</td>\n",
       "      <td>6</td>\n",
       "      <td>5</td>\n",
       "      <td>green</td>\n",
       "      <td>0</td>\n",
       "      <td>994</td>\n",
       "      <td>37</td>\n",
       "      <td>...</td>\n",
       "      <td>False</td>\n",
       "      <td>False</td>\n",
       "      <td>False</td>\n",
       "      <td>False</td>\n",
       "      <td>False</td>\n",
       "      <td>False</td>\n",
       "      <td>False</td>\n",
       "      <td>False</td>\n",
       "      <td>False</td>\n",
       "      <td>False</td>\n",
       "    </tr>\n",
       "    <tr>\n",
       "      <th>1</th>\n",
       "      <td>5.1</td>\n",
       "      <td>1726534182183</td>\n",
       "      <td>1726672002991</td>\n",
       "      <td>2042</td>\n",
       "      <td>6</td>\n",
       "      <td>5</td>\n",
       "      <td>green</td>\n",
       "      <td>0</td>\n",
       "      <td>1040</td>\n",
       "      <td>24</td>\n",
       "      <td>...</td>\n",
       "      <td>False</td>\n",
       "      <td>False</td>\n",
       "      <td>False</td>\n",
       "      <td>False</td>\n",
       "      <td>False</td>\n",
       "      <td>False</td>\n",
       "      <td>False</td>\n",
       "      <td>False</td>\n",
       "      <td>False</td>\n",
       "      <td>False</td>\n",
       "    </tr>\n",
       "    <tr>\n",
       "      <th>2</th>\n",
       "      <td>3.7</td>\n",
       "      <td>1726485728190</td>\n",
       "      <td>1726637414586</td>\n",
       "      <td>1580</td>\n",
       "      <td>4</td>\n",
       "      <td>4</td>\n",
       "      <td>unknown</td>\n",
       "      <td>0</td>\n",
       "      <td>591</td>\n",
       "      <td>135</td>\n",
       "      <td>...</td>\n",
       "      <td>False</td>\n",
       "      <td>False</td>\n",
       "      <td>False</td>\n",
       "      <td>False</td>\n",
       "      <td>False</td>\n",
       "      <td>False</td>\n",
       "      <td>False</td>\n",
       "      <td>False</td>\n",
       "      <td>False</td>\n",
       "      <td>False</td>\n",
       "    </tr>\n",
       "    <tr>\n",
       "      <th>3</th>\n",
       "      <td>3.9</td>\n",
       "      <td>1726333266539</td>\n",
       "      <td>1726584426218</td>\n",
       "      <td>5</td>\n",
       "      <td>3</td>\n",
       "      <td>4</td>\n",
       "      <td>green</td>\n",
       "      <td>0</td>\n",
       "      <td>236</td>\n",
       "      <td>38</td>\n",
       "      <td>...</td>\n",
       "      <td>False</td>\n",
       "      <td>False</td>\n",
       "      <td>False</td>\n",
       "      <td>False</td>\n",
       "      <td>False</td>\n",
       "      <td>False</td>\n",
       "      <td>False</td>\n",
       "      <td>False</td>\n",
       "      <td>False</td>\n",
       "      <td>False</td>\n",
       "    </tr>\n",
       "    <tr>\n",
       "      <th>4</th>\n",
       "      <td>4.1</td>\n",
       "      <td>1726333266382</td>\n",
       "      <td>1726334616179</td>\n",
       "      <td>4</td>\n",
       "      <td>3</td>\n",
       "      <td>4</td>\n",
       "      <td>green</td>\n",
       "      <td>0</td>\n",
       "      <td>260</td>\n",
       "      <td>28</td>\n",
       "      <td>...</td>\n",
       "      <td>False</td>\n",
       "      <td>False</td>\n",
       "      <td>False</td>\n",
       "      <td>False</td>\n",
       "      <td>False</td>\n",
       "      <td>False</td>\n",
       "      <td>False</td>\n",
       "      <td>False</td>\n",
       "      <td>False</td>\n",
       "      <td>False</td>\n",
       "    </tr>\n",
       "    <tr>\n",
       "      <th>...</th>\n",
       "      <td>...</td>\n",
       "      <td>...</td>\n",
       "      <td>...</td>\n",
       "      <td>...</td>\n",
       "      <td>...</td>\n",
       "      <td>...</td>\n",
       "      <td>...</td>\n",
       "      <td>...</td>\n",
       "      <td>...</td>\n",
       "      <td>...</td>\n",
       "      <td>...</td>\n",
       "      <td>...</td>\n",
       "      <td>...</td>\n",
       "      <td>...</td>\n",
       "      <td>...</td>\n",
       "      <td>...</td>\n",
       "      <td>...</td>\n",
       "      <td>...</td>\n",
       "      <td>...</td>\n",
       "      <td>...</td>\n",
       "      <td>...</td>\n",
       "    </tr>\n",
       "    <tr>\n",
       "      <th>1132</th>\n",
       "      <td>6.3</td>\n",
       "      <td>1696662769702</td>\n",
       "      <td>1702589215040</td>\n",
       "      <td>11</td>\n",
       "      <td>9</td>\n",
       "      <td>8</td>\n",
       "      <td>orange</td>\n",
       "      <td>0</td>\n",
       "      <td>1010</td>\n",
       "      <td>244</td>\n",
       "      <td>...</td>\n",
       "      <td>False</td>\n",
       "      <td>False</td>\n",
       "      <td>False</td>\n",
       "      <td>False</td>\n",
       "      <td>False</td>\n",
       "      <td>False</td>\n",
       "      <td>True</td>\n",
       "      <td>False</td>\n",
       "      <td>False</td>\n",
       "      <td>False</td>\n",
       "    </tr>\n",
       "    <tr>\n",
       "      <th>1133</th>\n",
       "      <td>5.4</td>\n",
       "      <td>1696661381156</td>\n",
       "      <td>1702589215040</td>\n",
       "      <td>0</td>\n",
       "      <td>0</td>\n",
       "      <td>7</td>\n",
       "      <td>yellow</td>\n",
       "      <td>0</td>\n",
       "      <td>650</td>\n",
       "      <td>165</td>\n",
       "      <td>...</td>\n",
       "      <td>False</td>\n",
       "      <td>False</td>\n",
       "      <td>False</td>\n",
       "      <td>False</td>\n",
       "      <td>False</td>\n",
       "      <td>False</td>\n",
       "      <td>True</td>\n",
       "      <td>False</td>\n",
       "      <td>False</td>\n",
       "      <td>False</td>\n",
       "    </tr>\n",
       "    <tr>\n",
       "      <th>1134</th>\n",
       "      <td>6.3</td>\n",
       "      <td>1696660863327</td>\n",
       "      <td>1702589215040</td>\n",
       "      <td>19</td>\n",
       "      <td>8</td>\n",
       "      <td>8</td>\n",
       "      <td>orange</td>\n",
       "      <td>0</td>\n",
       "      <td>1014</td>\n",
       "      <td>279</td>\n",
       "      <td>...</td>\n",
       "      <td>False</td>\n",
       "      <td>False</td>\n",
       "      <td>False</td>\n",
       "      <td>False</td>\n",
       "      <td>False</td>\n",
       "      <td>False</td>\n",
       "      <td>True</td>\n",
       "      <td>False</td>\n",
       "      <td>False</td>\n",
       "      <td>False</td>\n",
       "    </tr>\n",
       "    <tr>\n",
       "      <th>1135</th>\n",
       "      <td>5.7</td>\n",
       "      <td>1696324863018</td>\n",
       "      <td>1702589211040</td>\n",
       "      <td>131</td>\n",
       "      <td>8</td>\n",
       "      <td>7</td>\n",
       "      <td>green</td>\n",
       "      <td>0</td>\n",
       "      <td>605</td>\n",
       "      <td>226</td>\n",
       "      <td>...</td>\n",
       "      <td>False</td>\n",
       "      <td>False</td>\n",
       "      <td>False</td>\n",
       "      <td>False</td>\n",
       "      <td>False</td>\n",
       "      <td>False</td>\n",
       "      <td>False</td>\n",
       "      <td>False</td>\n",
       "      <td>False</td>\n",
       "      <td>False</td>\n",
       "    </tr>\n",
       "    <tr>\n",
       "      <th>1136</th>\n",
       "      <td>5.8</td>\n",
       "      <td>1691251309816</td>\n",
       "      <td>1696714739040</td>\n",
       "      <td>25</td>\n",
       "      <td>5</td>\n",
       "      <td>4</td>\n",
       "      <td>green</td>\n",
       "      <td>0</td>\n",
       "      <td>531</td>\n",
       "      <td>211</td>\n",
       "      <td>...</td>\n",
       "      <td>False</td>\n",
       "      <td>False</td>\n",
       "      <td>True</td>\n",
       "      <td>False</td>\n",
       "      <td>False</td>\n",
       "      <td>False</td>\n",
       "      <td>False</td>\n",
       "      <td>False</td>\n",
       "      <td>False</td>\n",
       "      <td>False</td>\n",
       "    </tr>\n",
       "  </tbody>\n",
       "</table>\n",
       "<p>1137 rows × 1703 columns</p>\n",
       "</div>"
      ]
     },
     "execution_count": 34,
     "metadata": {},
     "output_type": "execute_result"
    }
   ],
   "execution_count": 34
  },
  {
   "metadata": {
    "ExecuteTime": {
     "end_time": "2025-01-14T01:04:29.692122Z",
     "start_time": "2025-01-14T01:04:29.431573Z"
    }
   },
   "cell_type": "code",
   "source": [
    "# Sample set x_data and label set y_data \n",
    "x_data = data.drop(['alert'], axis=1)\n",
    "x_data = StandardScaler().fit_transform(x_data)\n",
    "y_data = data['alert']"
   ],
   "id": "213b8577d74d5301",
   "outputs": [],
   "execution_count": 35
  },
  {
   "metadata": {
    "ExecuteTime": {
     "end_time": "2025-01-14T01:04:30.621201Z",
     "start_time": "2025-01-14T01:04:30.616045Z"
    }
   },
   "cell_type": "code",
   "source": [
    "# Function to split the training set and validation set\n",
    "def split_data(x_data, y_data, test_size):\n",
    "    x_train, x_test, y_train, y_test = train_test_split(x_data,\n",
    "                                                        y_data,\n",
    "                                                        test_size=test_size,\n",
    "                                                        random_state=42)\n",
    "    return x_train, x_test, y_train, y_test"
   ],
   "id": "2a0a496cbee0f40c",
   "outputs": [],
   "execution_count": 36
  },
  {
   "metadata": {
    "ExecuteTime": {
     "end_time": "2025-01-14T01:04:30.717420Z",
     "start_time": "2025-01-14T01:04:30.665547Z"
    }
   },
   "cell_type": "code",
   "source": "x_train, x_test, y_train, y_test=split_data(x_data, y_data, 0.2)",
   "id": "54b7539f7e001fc8",
   "outputs": [],
   "execution_count": 37
  },
  {
   "metadata": {
    "ExecuteTime": {
     "end_time": "2025-01-14T01:04:30.731523Z",
     "start_time": "2025-01-14T01:04:30.723910Z"
    }
   },
   "cell_type": "code",
   "source": [
    "def evaluate_model(start_time, end_time, y_test_reg, y_pred):\n",
    "    print(f'Training time: {end_time - start_time}s')\n",
    "    print(f'Mean Square Error: {mean_squared_error(y_test_reg, y_pred)}')\n",
    "    print(f'R2 Score: {r2_score(y_test_reg, y_pred)}')"
   ],
   "id": "447d6d8985d2c293",
   "outputs": [],
   "execution_count": 38
  },
  {
   "metadata": {},
   "cell_type": "markdown",
   "source": "### Thực hiện trên dữ liệu gốc",
   "id": "326cc8e928ebb957"
  },
  {
   "metadata": {
    "ExecuteTime": {
     "end_time": "2025-01-14T01:04:30.751846Z",
     "start_time": "2025-01-14T01:04:30.742697Z"
    }
   },
   "cell_type": "code",
   "source": [
    "def svm_to_lasso_regression_original_1(x_train, y_train):\n",
    "    # Train the model\n",
    "    svm = SVC(kernel='linear', decision_function_shape='ovr', probability=True)\n",
    "    svm.fit(x_train, y_train)\n",
    "    \n",
    "    label_encoder = LabelEncoder()\n",
    "    label_encoder.fit_transform(y_data)\n",
    "    \n",
    "    decision_scores = svm.decision_function(x_data)\n",
    "    green_class_index = np.where(label_encoder.classes_ == \"green\")[0][0] \n",
    "    decision_scores_green = decision_scores[:, green_class_index]\n",
    "\n",
    "    \n",
    "    # -----------------------------------REGRESSION PROBLEMS------------------------------------------------------------------\n",
    "    x_data_regression = x_data\n",
    "    y_data_regression = decision_scores_green\n",
    "    \n",
    "    x_train_reg, x_test_reg, y_train_reg, y_test_reg = split_data(x_data_regression, y_data_regression, test_size = 0.2)\n",
    "    \n",
    "    # Train model\n",
    "    start_time = time.perf_counter()\n",
    "    lasso = Lasso(alpha=0.1, random_state=42)\n",
    "    lasso.fit(x_train_reg, y_train_reg)\n",
    "    end_time = time.perf_counter()\n",
    "    \n",
    "    # Predict\n",
    "    y_pred = lasso.predict(x_test_reg)\n",
    "    \n",
    "    evaluate_model(start_time, end_time, y_test_reg, y_pred)"
   ],
   "id": "f0eb28f786f80908",
   "outputs": [],
   "execution_count": 39
  },
  {
   "metadata": {
    "ExecuteTime": {
     "end_time": "2025-01-14T01:04:30.771346Z",
     "start_time": "2025-01-14T01:04:30.765627Z"
    }
   },
   "cell_type": "code",
   "source": [
    "def svm_to_lasso_regression_original_2(x_train, y_train):\n",
    "    # Train the model\n",
    "    svm = SVC(kernel='linear', decision_function_shape='ovr', probability=True)\n",
    "    svm.fit(x_train, y_train)\n",
    "    \n",
    "    label_encoder = LabelEncoder()\n",
    "    label_encoder.fit_transform(y_data)\n",
    "    \n",
    "    decision_scores = svm.decision_function(x_data)\n",
    "    green_class_index = np.where(label_encoder.classes_ == \"green\")[0][0] \n",
    "    decision_scores_green = decision_scores[:, green_class_index]\n",
    "\n",
    "    \n",
    "    # -----------------------------------REGRESSION PROBLEMS------------------------------------------------------------------\n",
    "    x_data_regression = x_data\n",
    "    y_data_regression = decision_scores_green\n",
    "    \n",
    "    x_train_reg, x_test_reg, y_train_reg, y_test_reg = split_data(x_data_regression, y_data_regression, test_size = 0.3)\n",
    "    \n",
    "    # Train model\n",
    "    start_time = time.perf_counter()\n",
    "    lasso = Lasso(alpha=0.1, random_state=42)\n",
    "    lasso.fit(x_train_reg, y_train_reg)\n",
    "    end_time = time.perf_counter()\n",
    "    \n",
    "    # Predict\n",
    "    y_pred = lasso.predict(x_test_reg)\n",
    "    \n",
    "    evaluate_model(start_time, end_time, y_test_reg, y_pred)"
   ],
   "id": "aa4ad52e074f722a",
   "outputs": [],
   "execution_count": 40
  },
  {
   "metadata": {
    "ExecuteTime": {
     "end_time": "2025-01-14T01:04:30.796345Z",
     "start_time": "2025-01-14T01:04:30.788348Z"
    }
   },
   "cell_type": "code",
   "source": [
    "def svm_to_lasso_regression_original_3(x_train, y_train):\n",
    "    # Train the model\n",
    "    svm = SVC(kernel='linear', decision_function_shape='ovr', probability=True)\n",
    "    svm.fit(x_train, y_train)\n",
    "    \n",
    "    label_encoder = LabelEncoder()\n",
    "    label_encoder.fit_transform(y_data)\n",
    "    \n",
    "    decision_scores = svm.decision_function(x_data)\n",
    "    green_class_index = np.where(label_encoder.classes_ == \"green\")[0][0] \n",
    "    decision_scores_green = decision_scores[:, green_class_index]\n",
    "\n",
    "    \n",
    "    # -----------------------------------REGRESSION PROBLEMS------------------------------------------------------------------\n",
    "    x_data_regression = x_data\n",
    "    y_data_regression = decision_scores_green\n",
    "    \n",
    "    x_train_reg, x_test_reg, y_train_reg, y_test_reg = split_data(x_data_regression, y_data_regression, test_size = 0.4)\n",
    "    \n",
    "    # Train model\n",
    "    start_time = time.perf_counter()\n",
    "    lasso = Lasso(alpha=0.1, random_state=42)\n",
    "    lasso.fit(x_train_reg, y_train_reg)\n",
    "    end_time = time.perf_counter()\n",
    "    \n",
    "    # Predict\n",
    "    y_pred = lasso.predict(x_test_reg)\n",
    "    \n",
    "    evaluate_model(start_time, end_time, y_test_reg, y_pred)"
   ],
   "id": "92a41625ae313eda",
   "outputs": [],
   "execution_count": 41
  },
  {
   "metadata": {
    "ExecuteTime": {
     "end_time": "2025-01-14T01:04:30.904309Z",
     "start_time": "2025-01-14T01:04:30.893559Z"
    }
   },
   "cell_type": "code",
   "source": [
    "def svm_to_linear_regression_original_1(x_train, y_train):\n",
    "    # Train the model\n",
    "    svm = SVC(kernel='linear', decision_function_shape='ovr', probability=True)\n",
    "    svm.fit(x_train, y_train)\n",
    "    \n",
    "    label_encoder = LabelEncoder()\n",
    "    label_encoder.fit_transform(y_data)\n",
    "    \n",
    "    decision_scores = svm.decision_function(x_data)\n",
    "    green_class_index = np.where(label_encoder.classes_ == \"green\")[0][0] \n",
    "    decision_scores_green = decision_scores[:, green_class_index]\n",
    "\n",
    "    \n",
    "    # -----------------------------------REGRESSION PROBLEMS------------------------------------------------------------------\n",
    "    x_data_regression = x_data\n",
    "    y_data_regression = decision_scores_green\n",
    "    \n",
    "    x_train_reg, x_test_reg, y_train_reg, y_test_reg=split_data(x_data_regression, y_data_regression, 0.2)\n",
    "    \n",
    "    # Train model\n",
    "    start_time = time.perf_counter()\n",
    "    linear = LinearRegression()\n",
    "    linear.fit(x_train_reg, y_train_reg)\n",
    "    end_time = time.perf_counter()\n",
    "    \n",
    "    # Predict\n",
    "    y_pred = linear.predict(x_test_reg)\n",
    "\n",
    "    evaluate_model(start_time, end_time, y_test_reg, y_pred)"
   ],
   "id": "62eeb9d08a498fb",
   "outputs": [],
   "execution_count": 42
  },
  {
   "metadata": {
    "ExecuteTime": {
     "end_time": "2025-01-14T01:04:30.923040Z",
     "start_time": "2025-01-14T01:04:30.915595Z"
    }
   },
   "cell_type": "code",
   "source": [
    "def svm_to_linear_regression_original_2(x_train, y_train):\n",
    "    # Train the model\n",
    "    svm = SVC(kernel='linear', decision_function_shape='ovr', probability=True)\n",
    "    svm.fit(x_train, y_train)\n",
    "    \n",
    "    label_encoder = LabelEncoder()\n",
    "    label_encoder.fit_transform(y_data)\n",
    "    \n",
    "    decision_scores = svm.decision_function(x_data)\n",
    "    green_class_index = np.where(label_encoder.classes_ == \"green\")[0][0] \n",
    "    decision_scores_green = decision_scores[:, green_class_index]\n",
    "\n",
    "    \n",
    "    # -----------------------------------REGRESSION PROBLEMS------------------------------------------------------------------\n",
    "    x_data_regression = x_data\n",
    "    y_data_regression = decision_scores_green\n",
    "    \n",
    "    x_train_reg, x_test_reg, y_train_reg, y_test_reg=split_data(x_data_regression, y_data_regression, 0.3)\n",
    "    \n",
    "    # Train model\n",
    "    start_time = time.perf_counter()\n",
    "    linear = LinearRegression()\n",
    "    linear.fit(x_train_reg, y_train_reg)\n",
    "    end_time = time.perf_counter()\n",
    "    \n",
    "    # Predict\n",
    "    y_pred = linear.predict(x_test_reg)\n",
    "\n",
    "    evaluate_model(start_time, end_time, y_test_reg, y_pred)"
   ],
   "id": "e382f2bd1ec2a7f1",
   "outputs": [],
   "execution_count": 43
  },
  {
   "metadata": {
    "ExecuteTime": {
     "end_time": "2025-01-14T01:04:30.942227Z",
     "start_time": "2025-01-14T01:04:30.935084Z"
    }
   },
   "cell_type": "code",
   "source": [
    "def svm_to_linear_regression_original_3(x_train, y_train):\n",
    "    # Train the model\n",
    "    svm = SVC(kernel='linear', decision_function_shape='ovr', probability=True)\n",
    "    svm.fit(x_train, y_train)\n",
    "    \n",
    "    label_encoder = LabelEncoder()\n",
    "    label_encoder.fit_transform(y_data)\n",
    "    \n",
    "    decision_scores = svm.decision_function(x_data)\n",
    "    green_class_index = np.where(label_encoder.classes_ == \"green\")[0][0] \n",
    "    decision_scores_green = decision_scores[:, green_class_index]\n",
    "\n",
    "    \n",
    "    # -----------------------------------REGRESSION PROBLEMS------------------------------------------------------------------\n",
    "    x_data_regression = x_data\n",
    "    y_data_regression = decision_scores_green\n",
    "    \n",
    "    x_train_reg, x_test_reg, y_train_reg, y_test_reg=split_data(x_data_regression, y_data_regression, 0.4)\n",
    "    \n",
    "    # Train model\n",
    "    start_time = time.perf_counter()\n",
    "    linear = LinearRegression()\n",
    "    linear.fit(x_train_reg, y_train_reg)\n",
    "    end_time = time.perf_counter()\n",
    "    \n",
    "    # Predict\n",
    "    y_pred = linear.predict(x_test_reg)\n",
    "\n",
    "    evaluate_model(start_time, end_time, y_test_reg, y_pred)"
   ],
   "id": "f184c3d80aa4d64a",
   "outputs": [],
   "execution_count": 44
  },
  {
   "metadata": {},
   "cell_type": "markdown",
   "source": "### Thực hiện trên dữ liệu đã giảm còn $\\dfrac{1}{3}$ số chiều \n",
   "id": "5826857024a46d1b"
  },
  {
   "metadata": {
    "ExecuteTime": {
     "end_time": "2025-01-14T01:04:30.965735Z",
     "start_time": "2025-01-14T01:04:30.956948Z"
    }
   },
   "cell_type": "code",
   "source": [
    "def svm_to_lasso_regression_pca_1(x_train, y_train):\n",
    "    # Train the model\n",
    "    svm = SVC(kernel='linear', decision_function_shape='ovr', probability=True)\n",
    "    svm.fit(x_train, y_train)\n",
    "    \n",
    "    label_encoder = LabelEncoder()\n",
    "    label_encoder.fit_transform(y_data)\n",
    "    \n",
    "    decision_scores = svm.decision_function(x_data)\n",
    "    green_class_index = np.where(label_encoder.classes_ == \"green\")[0][0] \n",
    "    decision_scores_green = decision_scores[:, green_class_index]\n",
    "\n",
    "    \n",
    "    # -----------------------------------REGRESSION PROBLEMS------------------------------------------------------------------\n",
    "    x_data_regression = x_data\n",
    "    y_data_regression = decision_scores_green\n",
    "    \n",
    "    # Dimensionality reduction\n",
    "    # Using PCA method\n",
    "    x_data_regression = StandardScaler().fit_transform(x_data_regression)\n",
    "    pca_plot = PCA(n_components=x_data_regression.shape[1] // 3, random_state=42)\n",
    "    x_data_pca_reg = pca_plot.fit_transform(x_data_regression)\n",
    "    \n",
    "    x_train_reg, x_test_reg, y_train_reg, y_test_reg=split_data(x_data_pca_reg, y_data_regression, 0.2)\n",
    "    \n",
    "    # Train model\n",
    "    start_time = time.perf_counter()\n",
    "    lasso = Lasso(alpha=0.1, random_state=42)\n",
    "    lasso.fit(x_train_reg, y_train_reg)\n",
    "    end_time = time.perf_counter()\n",
    "    \n",
    "    # Predict\n",
    "    y_pred = lasso.predict(x_test_reg)\n",
    "    \n",
    "    evaluate_model(start_time, end_time, y_test_reg, y_pred)"
   ],
   "id": "cae3c66cc347f2ae",
   "outputs": [],
   "execution_count": 45
  },
  {
   "metadata": {
    "ExecuteTime": {
     "end_time": "2025-01-14T01:04:30.987947Z",
     "start_time": "2025-01-14T01:04:30.978721Z"
    }
   },
   "cell_type": "code",
   "source": [
    "def svm_to_lasso_regression_pca_2(x_train, y_train):\n",
    "    # Train the model\n",
    "    svm = SVC(kernel='linear', decision_function_shape='ovr', probability=True)\n",
    "    svm.fit(x_train, y_train)\n",
    "    \n",
    "    label_encoder = LabelEncoder()\n",
    "    label_encoder.fit_transform(y_data)\n",
    "    \n",
    "    decision_scores = svm.decision_function(x_data)\n",
    "    green_class_index = np.where(label_encoder.classes_ == \"green\")[0][0] \n",
    "    decision_scores_green = decision_scores[:, green_class_index]\n",
    "\n",
    "    \n",
    "    # -----------------------------------REGRESSION PROBLEMS------------------------------------------------------------------\n",
    "    x_data_regression = x_data\n",
    "    y_data_regression = decision_scores_green\n",
    "    \n",
    "    # Dimensionality reduction\n",
    "    # Using PCA method\n",
    "    x_data_regression = StandardScaler().fit_transform(x_data_regression)\n",
    "    pca_plot = PCA(n_components=x_data_regression.shape[1] // 3, random_state=42)\n",
    "    x_data_pca_reg = pca_plot.fit_transform(x_data_regression)\n",
    "    \n",
    "    x_train_reg, x_test_reg, y_train_reg, y_test_reg=split_data(x_data_pca_reg, y_data_regression, 0.3)\n",
    "    \n",
    "    # Train model\n",
    "    start_time = time.perf_counter()\n",
    "    lasso = Lasso(alpha=0.1, random_state=42)\n",
    "    lasso.fit(x_train_reg, y_train_reg)\n",
    "    end_time = time.perf_counter()\n",
    "    \n",
    "    # Predict\n",
    "    y_pred = lasso.predict(x_test_reg)\n",
    "    \n",
    "    evaluate_model(start_time, end_time, y_test_reg, y_pred)"
   ],
   "id": "9ac4e1411be54d1f",
   "outputs": [],
   "execution_count": 46
  },
  {
   "metadata": {
    "ExecuteTime": {
     "end_time": "2025-01-14T01:04:31.006287Z",
     "start_time": "2025-01-14T01:04:30.997858Z"
    }
   },
   "cell_type": "code",
   "source": [
    "def svm_to_lasso_regression_pca_3(x_train, y_train):\n",
    "    # Train the model\n",
    "    svm = SVC(kernel='linear', decision_function_shape='ovr', probability=True)\n",
    "    svm.fit(x_train, y_train)\n",
    "    \n",
    "    label_encoder = LabelEncoder()\n",
    "    label_encoder.fit_transform(y_data)\n",
    "    \n",
    "    decision_scores = svm.decision_function(x_data)\n",
    "    green_class_index = np.where(label_encoder.classes_ == \"green\")[0][0] \n",
    "    decision_scores_green = decision_scores[:, green_class_index]\n",
    "\n",
    "    \n",
    "    # -----------------------------------REGRESSION PROBLEMS------------------------------------------------------------------\n",
    "    x_data_regression = x_data\n",
    "    y_data_regression = decision_scores_green\n",
    "    \n",
    "    # Dimensionality reduction\n",
    "    # Using PCA method\n",
    "    x_data_regression = StandardScaler().fit_transform(x_data_regression)\n",
    "    pca_plot = PCA(n_components=x_data_regression.shape[1] // 3, random_state=42)\n",
    "    x_data_pca_reg = pca_plot.fit_transform(x_data_regression)\n",
    "    \n",
    "    x_train_reg, x_test_reg, y_train_reg, y_test_reg=split_data(x_data_pca_reg, y_data_regression, 0.4)\n",
    "    \n",
    "    # Train model\n",
    "    start_time = time.perf_counter()\n",
    "    lasso = Lasso(alpha=0.1, random_state=42)\n",
    "    lasso.fit(x_train_reg, y_train_reg)\n",
    "    end_time = time.perf_counter()\n",
    "    \n",
    "    # Predict\n",
    "    y_pred = lasso.predict(x_test_reg)\n",
    "    \n",
    "    evaluate_model(start_time, end_time, y_test_reg, y_pred)"
   ],
   "id": "fdae678af43598f8",
   "outputs": [],
   "execution_count": 47
  },
  {
   "metadata": {
    "ExecuteTime": {
     "end_time": "2025-01-14T01:04:31.024937Z",
     "start_time": "2025-01-14T01:04:31.016306Z"
    }
   },
   "cell_type": "code",
   "source": [
    "def svm_to_linear_regression_pca_1(x_train, y_train):\n",
    "    # Train the model\n",
    "    svm = SVC(kernel='linear', decision_function_shape='ovr', probability=True)\n",
    "    svm.fit(x_train, y_train)\n",
    "    \n",
    "    label_encoder = LabelEncoder()\n",
    "    label_encoder.fit_transform(y_data)\n",
    "    \n",
    "    decision_scores = svm.decision_function(x_data)\n",
    "    green_class_index = np.where(label_encoder.classes_ == \"green\")[0][0] \n",
    "    decision_scores_green = decision_scores[:, green_class_index]\n",
    "\n",
    "    \n",
    "    # -----------------------------------REGRESSION PROBLEMS------------------------------------------------------------------\n",
    "    x_data_regression = x_data\n",
    "    y_data_regression = decision_scores_green\n",
    "    \n",
    "    # Dimensionality reduction\n",
    "    # Using PCA method\n",
    "    x_data_regression = StandardScaler().fit_transform(x_data_regression)\n",
    "    pca_plot = PCA(n_components=x_data_regression.shape[1] // 3, random_state=42)\n",
    "    x_data_pca_reg = pca_plot.fit_transform(x_data_regression)\n",
    "    \n",
    "    x_train_reg, x_test_reg, y_train_reg, y_test_reg=split_data(x_data_pca_reg, y_data_regression, 0.2)\n",
    "    \n",
    "    # Train model\n",
    "    start_time = time.perf_counter()\n",
    "    linear = LinearRegression()\n",
    "    linear.fit(x_train_reg, y_train_reg)\n",
    "    end_time = time.perf_counter()\n",
    "    \n",
    "    # Predict\n",
    "    y_pred = linear.predict(x_test_reg)\n",
    "    \n",
    "    evaluate_model(start_time, end_time, y_test_reg, y_pred)"
   ],
   "id": "2974df573e064770",
   "outputs": [],
   "execution_count": 48
  },
  {
   "metadata": {
    "ExecuteTime": {
     "end_time": "2025-01-14T01:04:31.040428Z",
     "start_time": "2025-01-14T01:04:31.034063Z"
    }
   },
   "cell_type": "code",
   "source": [
    "def svm_to_linear_regression_pca_2(x_train, y_train):\n",
    "    # Train the model\n",
    "    svm = SVC(kernel='linear', decision_function_shape='ovr', probability=True)\n",
    "    svm.fit(x_train, y_train)\n",
    "    \n",
    "    label_encoder = LabelEncoder()\n",
    "    label_encoder.fit_transform(y_data)\n",
    "    \n",
    "    decision_scores = svm.decision_function(x_data)\n",
    "    green_class_index = np.where(label_encoder.classes_ == \"green\")[0][0] \n",
    "    decision_scores_green = decision_scores[:, green_class_index]\n",
    "\n",
    "    \n",
    "    # -----------------------------------REGRESSION PROBLEMS------------------------------------------------------------------\n",
    "    x_data_regression = x_data\n",
    "    y_data_regression = decision_scores_green\n",
    "    \n",
    "    # Dimensionality reduction\n",
    "    # Using PCA method\n",
    "    x_data_regression = StandardScaler().fit_transform(x_data_regression)\n",
    "    pca_plot = PCA(n_components=x_data_regression.shape[1] // 3, random_state=42)\n",
    "    x_data_pca_reg = pca_plot.fit_transform(x_data_regression)\n",
    "    \n",
    "    x_train_reg, x_test_reg, y_train_reg, y_test_reg=split_data(x_data_pca_reg, y_data_regression, 0.3)\n",
    "    \n",
    "    # Train model\n",
    "    start_time = time.perf_counter()\n",
    "    linear = LinearRegression()\n",
    "    linear.fit(x_train_reg, y_train_reg)\n",
    "    end_time = time.perf_counter()\n",
    "    \n",
    "    # Predict\n",
    "    y_pred = linear.predict(x_test_reg)\n",
    "    \n",
    "    evaluate_model(start_time, end_time, y_test_reg, y_pred)"
   ],
   "id": "30e2c168258cdd6d",
   "outputs": [],
   "execution_count": 49
  },
  {
   "metadata": {
    "ExecuteTime": {
     "end_time": "2025-01-14T01:04:31.059056Z",
     "start_time": "2025-01-14T01:04:31.053285Z"
    }
   },
   "cell_type": "code",
   "source": [
    "def svm_to_linear_regression_pca_3(x_train, y_train):\n",
    "    # Train the model\n",
    "    svm = SVC(kernel='linear', decision_function_shape='ovr', probability=True)\n",
    "    svm.fit(x_train, y_train)\n",
    "    \n",
    "    label_encoder = LabelEncoder()\n",
    "    label_encoder.fit_transform(y_data)\n",
    "    \n",
    "    decision_scores = svm.decision_function(x_data)\n",
    "    green_class_index = np.where(label_encoder.classes_ == \"green\")[0][0] \n",
    "    decision_scores_green = decision_scores[:, green_class_index]\n",
    "\n",
    "    \n",
    "    # -----------------------------------REGRESSION PROBLEMS------------------------------------------------------------------\n",
    "    x_data_regression = x_data\n",
    "    y_data_regression = decision_scores_green\n",
    "    \n",
    "    # Dimensionality reduction\n",
    "    # Using PCA method\n",
    "    x_data_regression = StandardScaler().fit_transform(x_data_regression)\n",
    "    pca_plot = PCA(n_components=x_data_regression.shape[1] // 3, random_state=42)\n",
    "    x_data_pca_reg = pca_plot.fit_transform(x_data_regression)\n",
    "    \n",
    "    x_train_reg, x_test_reg, y_train_reg, y_test_reg=split_data(x_data_pca_reg, y_data_regression, 0.4)\n",
    "    \n",
    "    # Train model\n",
    "    start_time = time.perf_counter()\n",
    "    linear = LinearRegression()\n",
    "    linear.fit(x_train_reg, y_train_reg)\n",
    "    end_time = time.perf_counter()\n",
    "    \n",
    "    # Predict\n",
    "    y_pred = linear.predict(x_test_reg)\n",
    "    \n",
    "    evaluate_model(start_time, end_time, y_test_reg, y_pred)"
   ],
   "id": "26eea36a5d500ddb",
   "outputs": [],
   "execution_count": 50
  },
  {
   "metadata": {},
   "cell_type": "markdown",
   "source": "### Dữ liệu gốc",
   "id": "1d460f9f9500bab8"
  },
  {
   "metadata": {},
   "cell_type": "markdown",
   "source": "#### Lasso Regression",
   "id": "aee3ba51b1893b91"
  },
  {
   "metadata": {},
   "cell_type": "markdown",
   "source": "***Tỷ lệ train:test là 4:1***",
   "id": "3767d037db4b4886"
  },
  {
   "metadata": {
    "ExecuteTime": {
     "end_time": "2025-01-14T01:04:33.349498Z",
     "start_time": "2025-01-14T01:04:31.087776Z"
    }
   },
   "cell_type": "code",
   "source": "svm_to_lasso_regression_original_1(x_train, y_train)",
   "id": "7cbaabec373fe2c0",
   "outputs": [
    {
     "name": "stdout",
     "output_type": "stream",
     "text": [
      "Training time: 0.061366399997496046s\n",
      "Mean Square Error: 0.17449948952736594\n",
      "R2 Score: 0.5603231465680569\n"
     ]
    }
   ],
   "execution_count": 51
  },
  {
   "metadata": {},
   "cell_type": "markdown",
   "source": "***Tỷ lệ train:test là 7:3***",
   "id": "abd8caf3268341f3"
  },
  {
   "metadata": {
    "ExecuteTime": {
     "end_time": "2025-01-14T01:04:37.046449Z",
     "start_time": "2025-01-14T01:04:35.185490Z"
    }
   },
   "cell_type": "code",
   "source": "svm_to_lasso_regression_original_2(x_train, y_train)",
   "id": "39b0461364b67f0d",
   "outputs": [
    {
     "name": "stdout",
     "output_type": "stream",
     "text": [
      "Training time: 0.04832450000321842s\n",
      "Mean Square Error: 0.1707320259723026\n",
      "R2 Score: 0.5598543960511964\n"
     ]
    }
   ],
   "execution_count": 52
  },
  {
   "metadata": {},
   "cell_type": "markdown",
   "source": "***Tỷ lệ train:test là 6:4***",
   "id": "f287ac9fb78f1a92"
  },
  {
   "metadata": {
    "ExecuteTime": {
     "end_time": "2025-01-14T01:04:39.885877Z",
     "start_time": "2025-01-14T01:04:37.977648Z"
    }
   },
   "cell_type": "code",
   "source": "svm_to_lasso_regression_original_3(x_train, y_train)",
   "id": "9db27ec167456eb5",
   "outputs": [
    {
     "name": "stdout",
     "output_type": "stream",
     "text": [
      "Training time: 0.028970200000912882s\n",
      "Mean Square Error: 0.17005289335598936\n",
      "R2 Score: 0.553531194289896\n"
     ]
    }
   ],
   "execution_count": 53
  },
  {
   "metadata": {},
   "cell_type": "markdown",
   "source": "#### Linear Regression",
   "id": "b1c6855daf697916"
  },
  {
   "metadata": {},
   "cell_type": "markdown",
   "source": "***Tỷ lệ train:test là 4:1***",
   "id": "b9a31e68f85acad3"
  },
  {
   "metadata": {
    "ExecuteTime": {
     "end_time": "2025-01-14T01:04:42.063112Z",
     "start_time": "2025-01-14T01:04:39.912662Z"
    }
   },
   "cell_type": "code",
   "source": "svm_to_linear_regression_original_1(x_train, y_train)",
   "id": "2b3fda39d4433f39",
   "outputs": [
    {
     "name": "stdout",
     "output_type": "stream",
     "text": [
      "Training time: 0.3691185999996378s\n",
      "Mean Square Error: 7.8042972455555e+26\n",
      "R2 Score: -1.9664062430596955e+27\n"
     ]
    }
   ],
   "execution_count": 54
  },
  {
   "metadata": {},
   "cell_type": "markdown",
   "source": "***Tỷ lệ train:test là 7:3***",
   "id": "6b4663c1492bd968"
  },
  {
   "metadata": {
    "ExecuteTime": {
     "end_time": "2025-01-14T01:04:44.123071Z",
     "start_time": "2025-01-14T01:04:42.114048Z"
    }
   },
   "cell_type": "code",
   "source": "svm_to_linear_regression_original_2(x_train, y_train)",
   "id": "1262b2c72f7dfc08",
   "outputs": [
    {
     "name": "stdout",
     "output_type": "stream",
     "text": [
      "Training time: 0.2536193000014464s\n",
      "Mean Square Error: 9.150127546056964e+26\n",
      "R2 Score: -2.3588945261044226e+27\n"
     ]
    }
   ],
   "execution_count": 55
  },
  {
   "metadata": {},
   "cell_type": "markdown",
   "source": "***Tỷ lệ train:test là 6:4***",
   "id": "be03c18482619ad"
  },
  {
   "metadata": {
    "ExecuteTime": {
     "end_time": "2025-01-14T01:04:46.011982Z",
     "start_time": "2025-01-14T01:04:44.138888Z"
    }
   },
   "cell_type": "code",
   "source": "svm_to_linear_regression_original_3(x_train, y_train)",
   "id": "eca09ee44dc982a0",
   "outputs": [
    {
     "name": "stdout",
     "output_type": "stream",
     "text": [
      "Training time: 0.15009940000163624s\n",
      "Mean Square Error: 4.738143004942889e+26\n",
      "R2 Score: -1.2439853312416626e+27\n"
     ]
    }
   ],
   "execution_count": 56
  },
  {
   "metadata": {},
   "cell_type": "markdown",
   "source": "### Dữ liệu đã giảm còn $\\dfrac{1}{3}$ số chiều",
   "id": "30bdf3f3372c5dcc"
  },
  {
   "metadata": {},
   "cell_type": "markdown",
   "source": "#### Lasso Regression",
   "id": "43b9b1822b396919"
  },
  {
   "metadata": {},
   "cell_type": "markdown",
   "source": "***Tỷ lệ train:test là 4:1***",
   "id": "caa3fdc1e1dd5324"
  },
  {
   "metadata": {
    "ExecuteTime": {
     "end_time": "2025-01-14T01:04:48.543358Z",
     "start_time": "2025-01-14T01:04:46.045511Z"
    }
   },
   "cell_type": "code",
   "source": "svm_to_lasso_regression_pca_1(x_train, y_train)",
   "id": "9690204125651683",
   "outputs": [
    {
     "name": "stdout",
     "output_type": "stream",
     "text": [
      "Training time: 0.007368900001893053s\n",
      "Mean Square Error: 0.20223569517107137\n",
      "R2 Score: 0.4904377408479832\n"
     ]
    }
   ],
   "execution_count": 57
  },
  {
   "metadata": {},
   "cell_type": "markdown",
   "source": "***Tỷ lệ train:test là 7:3***",
   "id": "58e11020a9000b81"
  },
  {
   "metadata": {
    "ExecuteTime": {
     "end_time": "2025-01-14T01:04:50.905311Z",
     "start_time": "2025-01-14T01:04:48.564749Z"
    }
   },
   "cell_type": "code",
   "source": "svm_to_lasso_regression_pca_2(x_train, y_train)",
   "id": "cf4f70a2f0796d87",
   "outputs": [
    {
     "name": "stdout",
     "output_type": "stream",
     "text": [
      "Training time: 0.005751500000769738s\n",
      "Mean Square Error: 0.1869992154091954\n",
      "R2 Score: 0.5179177302237065\n"
     ]
    }
   ],
   "execution_count": 58
  },
  {
   "metadata": {},
   "cell_type": "markdown",
   "source": "***Tỷ lệ train:test là 6:4***",
   "id": "67575e1de1709680"
  },
  {
   "metadata": {
    "ExecuteTime": {
     "end_time": "2025-01-14T01:04:53.313118Z",
     "start_time": "2025-01-14T01:04:50.937521Z"
    }
   },
   "cell_type": "code",
   "source": "svm_to_lasso_regression_pca_3(x_train, y_train)",
   "id": "2daab8bc7ab1e8d4",
   "outputs": [
    {
     "name": "stdout",
     "output_type": "stream",
     "text": [
      "Training time: 0.0049796999992395286s\n",
      "Mean Square Error: 0.1813948589642867\n",
      "R2 Score: 0.5237532014571545\n"
     ]
    }
   ],
   "execution_count": 59
  },
  {
   "metadata": {},
   "cell_type": "markdown",
   "source": "#### Linear Regression",
   "id": "deedb583bcbea838"
  },
  {
   "metadata": {},
   "cell_type": "markdown",
   "source": "***Tỷ lệ train:test là 4:1***",
   "id": "7ffd8ab99c319a09"
  },
  {
   "metadata": {
    "ExecuteTime": {
     "end_time": "2025-01-14T01:04:55.790140Z",
     "start_time": "2025-01-14T01:04:53.346590Z"
    }
   },
   "cell_type": "code",
   "source": "svm_to_linear_regression_pca_1(x_train, y_train)",
   "id": "e00a1f53b3b45f47",
   "outputs": [
    {
     "name": "stdout",
     "output_type": "stream",
     "text": [
      "Training time: 0.0861083999989205s\n",
      "Mean Square Error: 4.8319221497261493e+27\n",
      "R2 Score: -1.2174730897917789e+28\n"
     ]
    }
   ],
   "execution_count": 60
  },
  {
   "metadata": {},
   "cell_type": "markdown",
   "source": "***Tỷ lệ train:test là 7:3***",
   "id": "abe8a3e671afd77a"
  },
  {
   "metadata": {
    "ExecuteTime": {
     "end_time": "2025-01-14T01:04:58.200120Z",
     "start_time": "2025-01-14T01:04:55.811780Z"
    }
   },
   "cell_type": "code",
   "source": "svm_to_linear_regression_pca_2(x_train, y_train)",
   "id": "e6dd9459ae6f7ac0",
   "outputs": [
    {
     "name": "stdout",
     "output_type": "stream",
     "text": [
      "Training time: 0.09816780000255676s\n",
      "Mean Square Error: 9.226973944676339e+27\n",
      "R2 Score: -2.3787054574976355e+28\n"
     ]
    }
   ],
   "execution_count": 61
  },
  {
   "metadata": {},
   "cell_type": "markdown",
   "source": "***Tỷ lệ train:test là 6:4***",
   "id": "83bcade44bb93ecb"
  },
  {
   "metadata": {
    "ExecuteTime": {
     "end_time": "2025-01-14T01:05:00.681765Z",
     "start_time": "2025-01-14T01:04:58.233145Z"
    }
   },
   "cell_type": "code",
   "source": "svm_to_linear_regression_pca_3(x_train, y_train)",
   "id": "6cf28a40dfc65afe",
   "outputs": [
    {
     "name": "stdout",
     "output_type": "stream",
     "text": [
      "Training time: 0.058102200000575976s\n",
      "Mean Square Error: 6.969179689787489e+27\n",
      "R2 Score: -1.8297373666938226e+28\n"
     ]
    }
   ],
   "execution_count": 62
  }
 ],
 "metadata": {
  "kernelspec": {
   "display_name": "Python 3",
   "language": "python",
   "name": "python3"
  },
  "language_info": {
   "codemirror_mode": {
    "name": "ipython",
    "version": 2
   },
   "file_extension": ".py",
   "mimetype": "text/x-python",
   "name": "python",
   "nbconvert_exporter": "python",
   "pygments_lexer": "ipython2",
   "version": "2.7.6"
  }
 },
 "nbformat": 4,
 "nbformat_minor": 5
}
